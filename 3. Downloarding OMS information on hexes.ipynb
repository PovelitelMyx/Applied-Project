{
 "cells": [
  {
   "cell_type": "code",
   "execution_count": 1,
   "id": "70c70e6d",
   "metadata": {},
   "outputs": [],
   "source": [
    "import geopandas as gpd\n",
    "import pandas as pd\n",
    "import numpy as np\n",
    "import json\n",
    "import h3\n",
    "import folium\n",
    "import osmnx as ox\n",
    "from shapely import wkt\n",
    "from folium.plugins import HeatMap\n",
    "from shapely.geometry import Polygon\n",
    "from tqdm import tqdm\n",
    "from geopy.geocoders import Nominatim\n",
    "import pickle"
   ]
  },
  {
   "cell_type": "code",
   "execution_count": 2,
   "id": "d0fbaff3",
   "metadata": {},
   "outputs": [
    {
     "name": "stdout",
     "output_type": "stream",
     "text": [
      "(59.79511633691718, 30.148051019587808)\n",
      "((59.79418534415885, 30.145347613504633), (59.79336572152563, 30.14802331140712), (59.79429666329383, 30.1507267911911), (59.79604729413994, 30.15075463446571), (59.79686694210071, 30.14807873051579), (59.79593593388555, 30.145375189345877))\n",
      "8911061843bffff\n"
     ]
    }
   ],
   "source": [
    "h = '89110610a4fffff'\n",
    "print(h3.h3_to_geo(h))\n",
    "print(h3.h3_to_geo_boundary(h))\n",
    "print(h3.geo_to_h3(59.658116, 30.1480510195878, 9))"
   ]
  },
  {
   "cell_type": "code",
   "execution_count": 5,
   "id": "1ddf644d",
   "metadata": {
    "scrolled": true
   },
   "outputs": [
    {
     "data": {
      "text/html": [
       "<div style=\"width:100%;\"><div style=\"position:relative;width:100%;height:0;padding-bottom:60%;\"><span style=\"color:#565656\">Make this Notebook Trusted to load map: File -> Trust Notebook</span><iframe srcdoc=\"&lt;!DOCTYPE html&gt;\n",
       "&lt;html&gt;\n",
       "&lt;head&gt;\n",
       "    \n",
       "    &lt;meta http-equiv=&quot;content-type&quot; content=&quot;text/html; charset=UTF-8&quot; /&gt;\n",
       "    \n",
       "        &lt;script&gt;\n",
       "            L_NO_TOUCH = false;\n",
       "            L_DISABLE_3D = false;\n",
       "        &lt;/script&gt;\n",
       "    \n",
       "    &lt;style&gt;html, body {width: 100%;height: 100%;margin: 0;padding: 0;}&lt;/style&gt;\n",
       "    &lt;style&gt;#map {position:absolute;top:0;bottom:0;right:0;left:0;}&lt;/style&gt;\n",
       "    &lt;script src=&quot;https://cdn.jsdelivr.net/npm/leaflet@1.9.3/dist/leaflet.js&quot;&gt;&lt;/script&gt;\n",
       "    &lt;script src=&quot;https://code.jquery.com/jquery-3.7.1.min.js&quot;&gt;&lt;/script&gt;\n",
       "    &lt;script src=&quot;https://cdn.jsdelivr.net/npm/bootstrap@5.2.2/dist/js/bootstrap.bundle.min.js&quot;&gt;&lt;/script&gt;\n",
       "    &lt;script src=&quot;https://cdnjs.cloudflare.com/ajax/libs/Leaflet.awesome-markers/2.0.2/leaflet.awesome-markers.js&quot;&gt;&lt;/script&gt;\n",
       "    &lt;link rel=&quot;stylesheet&quot; href=&quot;https://cdn.jsdelivr.net/npm/leaflet@1.9.3/dist/leaflet.css&quot;/&gt;\n",
       "    &lt;link rel=&quot;stylesheet&quot; href=&quot;https://cdn.jsdelivr.net/npm/bootstrap@5.2.2/dist/css/bootstrap.min.css&quot;/&gt;\n",
       "    &lt;link rel=&quot;stylesheet&quot; href=&quot;https://netdna.bootstrapcdn.com/bootstrap/3.0.0/css/bootstrap.min.css&quot;/&gt;\n",
       "    &lt;link rel=&quot;stylesheet&quot; href=&quot;https://cdn.jsdelivr.net/npm/@fortawesome/fontawesome-free@6.2.0/css/all.min.css&quot;/&gt;\n",
       "    &lt;link rel=&quot;stylesheet&quot; href=&quot;https://cdnjs.cloudflare.com/ajax/libs/Leaflet.awesome-markers/2.0.2/leaflet.awesome-markers.css&quot;/&gt;\n",
       "    &lt;link rel=&quot;stylesheet&quot; href=&quot;https://cdn.jsdelivr.net/gh/python-visualization/folium/folium/templates/leaflet.awesome.rotate.min.css&quot;/&gt;\n",
       "    \n",
       "            &lt;meta name=&quot;viewport&quot; content=&quot;width=device-width,\n",
       "                initial-scale=1.0, maximum-scale=1.0, user-scalable=no&quot; /&gt;\n",
       "            &lt;style&gt;\n",
       "                #map_9302b182048fe91ee5a6268bf3e4889e {\n",
       "                    position: relative;\n",
       "                    width: 100.0%;\n",
       "                    height: 100.0%;\n",
       "                    left: 0.0%;\n",
       "                    top: 0.0%;\n",
       "                }\n",
       "                .leaflet-container { font-size: 1rem; }\n",
       "            &lt;/style&gt;\n",
       "        \n",
       "&lt;/head&gt;\n",
       "&lt;body&gt;\n",
       "    \n",
       "    \n",
       "            &lt;div class=&quot;folium-map&quot; id=&quot;map_9302b182048fe91ee5a6268bf3e4889e&quot; &gt;&lt;/div&gt;\n",
       "        \n",
       "&lt;/body&gt;\n",
       "&lt;script&gt;\n",
       "    \n",
       "    \n",
       "            var map_9302b182048fe91ee5a6268bf3e4889e = L.map(\n",
       "                &quot;map_9302b182048fe91ee5a6268bf3e4889e&quot;,\n",
       "                {\n",
       "                    center: [60.178148715221994, 30.311958245114507],\n",
       "                    crs: L.CRS.EPSG3857,\n",
       "                    zoom: 15,\n",
       "                    zoomControl: true,\n",
       "                    preferCanvas: false,\n",
       "                }\n",
       "            );\n",
       "\n",
       "            \n",
       "\n",
       "        \n",
       "    \n",
       "            var tile_layer_a3193c4cabbbb99d7ebf73a1b47a3f39 = L.tileLayer(\n",
       "                &quot;https://{s}.tile.openstreetmap.org/{z}/{x}/{y}.png&quot;,\n",
       "                {&quot;attribution&quot;: &quot;Data by \\u0026copy; \\u003ca target=\\&quot;_blank\\&quot; href=\\&quot;http://openstreetmap.org\\&quot;\\u003eOpenStreetMap\\u003c/a\\u003e, under \\u003ca target=\\&quot;_blank\\&quot; href=\\&quot;http://www.openstreetmap.org/copyright\\&quot;\\u003eODbL\\u003c/a\\u003e.&quot;, &quot;detectRetina&quot;: false, &quot;maxNativeZoom&quot;: 18, &quot;maxZoom&quot;: 18, &quot;minZoom&quot;: 0, &quot;noWrap&quot;: false, &quot;opacity&quot;: 1, &quot;subdomains&quot;: &quot;abc&quot;, &quot;tms&quot;: false}\n",
       "            );\n",
       "        \n",
       "    \n",
       "                tile_layer_a3193c4cabbbb99d7ebf73a1b47a3f39.addTo(map_9302b182048fe91ee5a6268bf3e4889e);\n",
       "    \n",
       "            var marker_33e23f8bbb6d1e36a674692066ffe85b = L.marker(\n",
       "                [60.178148715221994, 30.311958245114507],\n",
       "                {}\n",
       "            ).addTo(map_9302b182048fe91ee5a6268bf3e4889e);\n",
       "        \n",
       "    \n",
       "            var marker_4f89d6d49ca23e72fbfe0098a79ad24b = L.marker(\n",
       "                [60.17733089470366, 30.314663468848707],\n",
       "                {}\n",
       "            ).addTo(map_9302b182048fe91ee5a6268bf3e4889e);\n",
       "        \n",
       "    \n",
       "            var marker_bf85993f8ca33da405c7f51b9c60c7dc = L.marker(\n",
       "                [60.17826254489239, 30.317405157887038],\n",
       "                {}\n",
       "            ).addTo(map_9302b182048fe91ee5a6268bf3e4889e);\n",
       "        \n",
       "    \n",
       "            var marker_b773eb457795f6ead7aab8efd082b43b = L.marker(\n",
       "                [60.18001208215914, 30.317441687573208],\n",
       "                {}\n",
       "            ).addTo(map_9302b182048fe91ee5a6268bf3e4889e);\n",
       "        \n",
       "    \n",
       "            var marker_03725c0b41cc7d6857823b74100779e0 = L.marker(\n",
       "                [60.1808299286797, 30.314736254022115],\n",
       "                {}\n",
       "            ).addTo(map_9302b182048fe91ee5a6268bf3e4889e);\n",
       "        \n",
       "    \n",
       "            var marker_c3b1397157176d7191b4903577b570e9 = L.marker(\n",
       "                [60.17989821192894, 30.311994500608964],\n",
       "                {}\n",
       "            ).addTo(map_9302b182048fe91ee5a6268bf3e4889e);\n",
       "        \n",
       "    \n",
       "            var marker_96cc24f9999056ffb410c8e5d18220f5 = L.marker(\n",
       "                [60.178148715221994, 30.311958245114507],\n",
       "                {}\n",
       "            ).addTo(map_9302b182048fe91ee5a6268bf3e4889e);\n",
       "        \n",
       "&lt;/script&gt;\n",
       "&lt;/html&gt;\" style=\"position:absolute;width:100%;height:100%;left:0;top:0;border:none !important;\" allowfullscreen webkitallowfullscreen mozallowfullscreen></iframe></div></div>"
      ],
      "text/plain": [
       "<folium.folium.Map at 0x24fddf87820>"
      ]
     },
     "execution_count": 5,
     "metadata": {},
     "output_type": "execute_result"
    }
   ],
   "source": [
    "h3_test_1 = ((30.311958245114507, 60.178148715221994), (30.314663468848707, 60.17733089470366), (30.317405157887038, 60.17826254489239), (30.317441687573208, 60.18001208215914), (30.314736254022115, 60.1808299286797), (30.311994500608964, 60.17989821192894), (30.311958245114507, 60.178148715221994))\n",
    "map = folium.Map((h3_test_1[0][1],h3_test_1[0][0]), zoom_start=15)\n",
    "for pt in h3_test_1:\n",
    "    marker = folium.Marker([pt[1], pt[0]]) #latitude,longitude\n",
    "    map.add_child(marker)\n",
    "map"
   ]
  },
  {
   "cell_type": "markdown",
   "id": "de6278da",
   "metadata": {},
   "source": [
    "## Наши данные"
   ]
  },
  {
   "cell_type": "code",
   "execution_count": null,
   "id": "5fe7a888",
   "metadata": {},
   "outputs": [],
   "source": [
    "import json\n",
    "\n",
    "with open('spb.geojson') as user_file:\n",
    "    file_contents = user_file.read()\n",
    "file_contents"
   ]
  },
  {
   "cell_type": "code",
   "execution_count": null,
   "id": "78de53e3",
   "metadata": {},
   "outputs": [],
   "source": [
    "json_tele2 = []\n",
    "with open('spb_1.geojson', 'r') as j:\n",
    "    contents = json.loads(j.read())\n",
    "for i in contents['features'][0]['geometry']['coordinates'][0]:\n",
    "    json_tele2.append(i)\n",
    "    \n",
    "json_tele2"
   ]
  },
  {
   "cell_type": "code",
   "execution_count": null,
   "id": "5f4f6599",
   "metadata": {},
   "outputs": [],
   "source": [
    "json_tele2_df = pd.DataFrame(json_tele2, columns = ['lon', 'lat']) \n",
    "json_tele2_df"
   ]
  },
  {
   "cell_type": "code",
   "execution_count": null,
   "id": "d57e859b",
   "metadata": {},
   "outputs": [],
   "source": [
    "spb_hex = pd.read_excel('spb_hex.xlsx', sheet_name='spb_hex', header=0, na_values=['NA'])\n",
    "spb_hex"
   ]
  },
  {
   "cell_type": "markdown",
   "id": "a33185b0",
   "metadata": {},
   "source": [
    "### Add coordinates"
   ]
  },
  {
   "cell_type": "code",
   "execution_count": null,
   "id": "727dcc62",
   "metadata": {},
   "outputs": [],
   "source": [
    "spb_hex['coordinates'] = spb_hex.apply(lambda x:  h3.h3_to_geo(x['h3_9']), axis=1)\n",
    "spb_hex"
   ]
  },
  {
   "cell_type": "markdown",
   "id": "bd69e46f",
   "metadata": {},
   "source": [
    "### Add coordinates in geo formats"
   ]
  },
  {
   "cell_type": "code",
   "execution_count": null,
   "id": "f49c21a7",
   "metadata": {},
   "outputs": [],
   "source": [
    "spb_hex['coordinates_geo'] = spb_hex.apply(lambda x:  gpd.points_from_xy(spb_hex.coordinates[0], spb_hex.coordinates[1]), axis=1)\n",
    "spb_hex"
   ]
  },
  {
   "cell_type": "markdown",
   "id": "0a3219c1",
   "metadata": {},
   "source": [
    "### Add latitude and longitude"
   ]
  },
  {
   "cell_type": "code",
   "execution_count": null,
   "id": "33c5c384",
   "metadata": {},
   "outputs": [],
   "source": [
    "spb_hex['lat'] = spb_hex['coordinates'].apply(lambda x: x[0])\n",
    "spb_hex['lon'] = spb_hex['coordinates'].apply(lambda x: x[1])\n",
    "spb_hex"
   ]
  },
  {
   "cell_type": "markdown",
   "id": "4cc31333",
   "metadata": {},
   "source": [
    "### Getting city name (Takes ling time to compute)"
   ]
  },
  {
   "cell_type": "code",
   "execution_count": null,
   "id": "543d08fb",
   "metadata": {},
   "outputs": [],
   "source": [
    "k = -1\n",
    "for i in tqdm(spb_hex['coordinates']):\n",
    "    k += 1\n",
    "    url = f'https://nominatim.openstreetmap.org/reverse?lat={i[0]}&lon={i[1]}&format=json&addressdetails=1&zoom=5'\n",
    "    try:\n",
    "        result = requests.get(url=url)\n",
    "        result_json = result.json()\n",
    "        spb_hex.at[k, 'city'] = result_json['address']['state']\n",
    "    except:\n",
    "        spb_hex.at[k, 'city'] = None\n",
    "spb_hex"
   ]
  },
  {
   "cell_type": "markdown",
   "id": "4aa3f0e5",
   "metadata": {},
   "source": [
    "### Visulazing of hexagons"
   ]
  },
  {
   "cell_type": "code",
   "execution_count": null,
   "id": "5650963e",
   "metadata": {},
   "outputs": [],
   "source": [
    "def visualize_hexagons(hexagons, color=\"red\", folium_map=None):\n",
    "\n",
    "    polylines = []\n",
    "    lat = []\n",
    "    lng = []\n",
    "    for hex in hexagons:\n",
    "        polygons = h3.h3_set_to_multi_polygon([hex], geo_json=False)\n",
    "        outlines = [loop for polygon in polygons for loop in polygon]\n",
    "        polyline = [outline + [outline[0]] for outline in outlines][0]\n",
    "        lat.extend(map(lambda v:v[0],polyline))\n",
    "        lng.extend(map(lambda v:v[1],polyline))\n",
    "        polylines.append(polyline)\n",
    "    \n",
    "    if folium_map is None:\n",
    "        m = folium.Map(location=[sum(lat)/len(lat), sum(lng)/len(lng)], zoom_start=20, tiles='cartodbpositron')\n",
    "    else:\n",
    "        m = folium_map\n",
    "        \n",
    "    for polyline in polylines:\n",
    "        my_PolyLine=folium.PolyLine(locations=polyline,weight=8,color=color)\n",
    "        m.add_child(my_PolyLine)\n",
    "    return m"
   ]
  },
  {
   "cell_type": "markdown",
   "id": "bb03e3f0",
   "metadata": {},
   "source": [
    "### Getting the boundaries of Saint Petersburg"
   ]
  },
  {
   "cell_type": "code",
   "execution_count": null,
   "id": "c289ccae",
   "metadata": {},
   "outputs": [],
   "source": [
    "cities = ['Санкт-Петербург']\n",
    "polygon_krd = ox.geometries_from_place(cities, {'boundary':'administrative'}).reset_index()\n",
    "polygon_krd = polygon_krd[(polygon_krd['name'] == 'Санкт-Петербург')]\n",
    "polygon_krd\n",
    "\n",
    "visualize_polygons(polygon_krd['geometry'])"
   ]
  },
  {
   "cell_type": "markdown",
   "id": "411d1417",
   "metadata": {},
   "source": [
    "### Polygon visualization and set the centroid of polygons"
   ]
  },
  {
   "cell_type": "code",
   "execution_count": null,
   "id": "a5876d1d",
   "metadata": {},
   "outputs": [],
   "source": [
    "def visualize_polygons(geometry):\n",
    "    \n",
    "    lats, lons = get_lat_lon(geometry)\n",
    "    \n",
    "    m = folium.Map(location=[sum(lats)/len(lats), sum(lons)/len(lons)], zoom_start=13, tiles='cartodbpositron')\n",
    "    \n",
    "    overlay = gpd.GeoSeries(geometry).to_json()\n",
    "    folium.GeoJson(overlay, name = 'boundary').add_to(m)\n",
    "    \n",
    "    return m\n",
    "\n",
    "# выводим центроиды полигонов\n",
    "def get_lat_lon(geometry):\n",
    "        \n",
    "    lon = geometry.apply(lambda x: x.x if x.type == 'Point' else x.centroid.x)\n",
    "    lat = geometry.apply(lambda x: x.y if x.type == 'Point' else x.centroid.y)\n",
    "    return lat, lon"
   ]
  },
  {
   "cell_type": "markdown",
   "id": "67a0fa79",
   "metadata": {},
   "source": [
    "### Creating hexagons"
   ]
  },
  {
   "cell_type": "code",
   "execution_count": null,
   "id": "da5f7a5e",
   "metadata": {},
   "outputs": [],
   "source": [
    "def create_hexagons(geoJson):\n",
    "    \n",
    "    polyline = geoJson['coordinates'][0]\n",
    "\n",
    "    polyline.append(polyline[0])\n",
    "    lat = [p[0] for p in polyline]\n",
    "    lng = [p[1] for p in polyline]\n",
    "    m = folium.Map(location=[sum(lat)/len(lat), sum(lng)/len(lng)], zoom_start=13, tiles='cartodbpositron')\n",
    "    my_PolyLine=folium.PolyLine(locations=polyline,weight=9,color=\"green\")\n",
    "    m.add_child(my_PolyLine)\n",
    "\n",
    "    hexagons = list(h3.polyfill(geoJson, 9))\n",
    "    polylines = []\n",
    "    lat = []\n",
    "    lng = []\n",
    "    for hex in hexagons:\n",
    "        polygons = h3.h3_set_to_multi_polygon([hex], geo_json=False)\n",
    "        # flatten polygons into loops.\n",
    "        outlines = [loop for polygon in polygons for loop in polygon]\n",
    "        polyline = [outline + [outline[0]] for outline in outlines][0]\n",
    "        lat.extend(map(lambda v:v[0],polyline))\n",
    "        lng.extend(map(lambda v:v[1],polyline))\n",
    "        polylines.append(polyline)\n",
    "    for polyline in polylines:\n",
    "        my_PolyLine=folium.PolyLine(locations=polyline,weight=3,color='red')\n",
    "        m.add_child(my_PolyLine)\n",
    "        \n",
    "    polylines_x = []\n",
    "    for j in range(len(polylines)):\n",
    "        a = np.column_stack((np.array(polylines[j])[:,1],np.array(polylines[j])[:,0])).tolist()\n",
    "        polylines_x.append([(a[i][0], a[i][1]) for i in range(len(a))])\n",
    "        \n",
    "    polygons_hex = pd.Series(polylines_x).apply(lambda x: Polygon(x))\n",
    "        \n",
    "    return m, polygons_hex, polylines"
   ]
  },
  {
   "cell_type": "markdown",
   "id": "425255b0",
   "metadata": {},
   "source": [
    "### Split Saint Petersburg into hexagons"
   ]
  },
  {
   "cell_type": "code",
   "execution_count": null,
   "id": "e07e5330",
   "metadata": {},
   "outputs": [],
   "source": [
    "geoJson = json.loads(gpd.GeoSeries(polygon_krd['geometry']).to_json())\n",
    "#print(geoJson)\n",
    "geoJson = {'type':'Polygon','coordinates': [np.column_stack((np.array(geoJson['features'][0]['geometry']['coordinates'][1][0])[:, 1],\n",
    "                                                      np.array(geoJson['features'][0]['geometry']['coordinates'][1][0])[:, 0])).tolist()]}\n",
    "m, polygons, polylines = create_hexagons(geoJson)\n",
    "m"
   ]
  },
  {
   "cell_type": "markdown",
   "id": "1b5f7b44",
   "metadata": {},
   "source": [
    "### Work with geojson file from Tele2"
   ]
  },
  {
   "cell_type": "code",
   "execution_count": null,
   "id": "659f65da",
   "metadata": {},
   "outputs": [],
   "source": [
    "with open('spb_1.geojson', 'r') as j:\n",
    "    geoJson_tele2_json = json.loads(j.read())\n",
    "geoJson_tele2_json"
   ]
  },
  {
   "cell_type": "code",
   "execution_count": null,
   "id": "7a67b2be",
   "metadata": {},
   "outputs": [],
   "source": [
    "geoJson_tele2 = {'type':'Polygon','coordinates': [np.column_stack((np.array(geoJson_tele2['features'][0]['geometry']['coordinates'][0])[:, 1],\n",
    "                                                      np.array(geoJson_tele2['features'][0]['geometry']['coordinates'][0])[:, 0])).tolist()]}\n",
    "#geoJson_tele2\n",
    "m, polygons, polylines = create_hexagons(geoJson_tele2)\n",
    "m"
   ]
  },
  {
   "cell_type": "markdown",
   "id": "c96415a1",
   "metadata": {},
   "source": [
    "### Save the results"
   ]
  },
  {
   "cell_type": "code",
   "execution_count": null,
   "id": "f9175ddc",
   "metadata": {},
   "outputs": [],
   "source": [
    "# для dataframe и object\n",
    "polygons.to_csv('polygons_tele2.xlsx', index = False)\n",
    "\n",
    "# для list\n",
    "file_name = \"polylines_tele2.pkl\"\n",
    "\n",
    "open_file = open(file_name, \"wb\")\n",
    "pickle.dump(polylines, open_file)\n",
    "open_file.close()"
   ]
  },
  {
   "cell_type": "markdown",
   "id": "54f83a35",
   "metadata": {},
   "source": [
    "### The same actions but for larger boundaries (from Tele2)"
   ]
  },
  {
   "cell_type": "code",
   "execution_count": null,
   "id": "c75e2118",
   "metadata": {},
   "outputs": [],
   "source": [
    "# добавил Саня для Tele2\n",
    "polygon_tele2 = geometry.Polygon(geoJson_tele2_json['features'][0]['geometry']['coordinates'][0])\n",
    "def osm_query(polygon, tag):\n",
    "    gdfs_tele2 = ox.features_from_polygon(polygon, tag).reset_index()\n",
    "    gdfs_tele2['object'] = np.full(len(gdfs_tele2), list(tag.keys())[0])\n",
    "    gdfs_tele2['type'] = np.full(len(gdfs_tele2), tag[list(tag.keys())[0]])\n",
    "    gdfs_tele2 = gdfs_tele2[['object', 'type', 'geometry']]\n",
    "    return gdfs_tele2\n",
    "  \n",
    "# Выгрузим интересующие нас категории объектов \n",
    "tags = [\n",
    "        {'building' : 'apartments'}, {'building' : 'detached'}, \n",
    "        {'building' : 'dormitory'}, {'building' : 'hotel'}, \n",
    "        {'building' : 'house'}, {'building' : 'semidetached_house'}, \n",
    "        {'building' : 'terrace'},  {'building' : 'commercial'},\n",
    "        {'building' : 'office'},  {'building' : 'terrace'},  \n",
    "        {'building' : 'terrace'}, {'building':'retail'}, \n",
    "        {'building':'train_station'}, {'highway' : 'bus_stop'},\n",
    "        {'amenity':'cafe'}, {'amenity':'fast_food'}, \n",
    "        {'amenity':'restaurant'}, {'amenity':'college'}, \n",
    "        {'amenity':'language_school'},  {'amenity':'school'},  \n",
    "        {'amenity':'university'},  \n",
    "        {'amenity':'bank'},  {'amenity':'clinic'},  \n",
    "        {'amenity':'hospital'},  {'amenity':'pharmacy'},  \n",
    "        {'amenity':'theatre'},  {'amenity':'townhall'},\n",
    "       ]\n",
    "\n",
    "\n",
    "polygons_tele2 = [polygon_tele2]\n",
    "\n",
    "gdfs_tele2 = []\n",
    "\n",
    "for polygon in polygons_tele2:\n",
    "    for tag in tags:\n",
    "        gdfs_tele2.append(osm_query(polygon, tag))"
   ]
  },
  {
   "cell_type": "code",
   "execution_count": null,
   "id": "f2aa3752",
   "metadata": {},
   "outputs": [],
   "source": [
    "# for list\n",
    "file_name = \"gdfs_tele2.pkl\"\n",
    "\n",
    "open_file = open(file_name, \"wb\")\n",
    "pickle.dump(gdfs_tele2, open_file)\n",
    "open_file.close()"
   ]
  },
  {
   "cell_type": "code",
   "execution_count": null,
   "id": "e341b27b",
   "metadata": {},
   "outputs": [],
   "source": [
    "data_poi_tele2 = pd.concat(gdfs_tele2)\n",
    "data_poi_tele2.groupby(['object','type'], as_index = False).agg({'geometry':'count'})\n",
    "\n",
    "lat, lon = get_lat_lon(data_poi_tele2['geometry'])\n",
    "data_poi_tele2['lat'] = lat\n",
    "data_poi_tele2['lon'] = lon\n",
    "data_poi_tele2"
   ]
  },
  {
   "cell_type": "markdown",
   "id": "72947ccc",
   "metadata": {},
   "source": [
    "### Prepare data to make spatial join of two geo frames"
   ]
  },
  {
   "cell_type": "code",
   "execution_count": null,
   "id": "827826ee",
   "metadata": {},
   "outputs": [],
   "source": [
    "gdf_1_tele2 = gpd.GeoDataFrame(data_poi_tele2, geometry=gpd.points_from_xy(data_poi_tele2.lon, data_poi_tele2.lat))\n",
    "\n",
    "gdf_2_tele2 = pd.DataFrame(polygons, columns = ['geometry'])\n",
    "gdf_2_tele2['polylines'] = polylines\n",
    "gdf_2_tele2['geometry'] = gdf_2_tele2['geometry'].astype(str)\n",
    "geometry_uniq = pd.DataFrame(gdf_2_tele2['geometry'].drop_duplicates())\n",
    "geometry_uniq['id'] = np.arange(len(geometry_uniq)).astype(str)\n",
    "gdf_2_tele2 = gdf_2_tele2.merge(geometry_uniq, on = 'geometry')\n",
    "gdf_2_tele2['geometry'] = gdf_2_tele2['geometry'].apply(wkt.loads)\n",
    "gdf_2_tele2 = gpd.GeoDataFrame(gdf_2_tele2, geometry='geometry')\n",
    "gdf_2_tele2"
   ]
  },
  {
   "cell_type": "code",
   "execution_count": null,
   "id": "05708735",
   "metadata": {},
   "outputs": [],
   "source": [
    "itog_table_tele2 = gpd.sjoin(gdf_2_tele2, gdf_1_tele2)\n",
    "itog_table_tele2"
   ]
  },
  {
   "cell_type": "code",
   "execution_count": null,
   "id": "e51e5849",
   "metadata": {},
   "outputs": [],
   "source": [
    "itog_table_tele2_temp1 = itog_table_tele2[['geometry', 'object', 'type', 'lat', 'lon', 'id']]\n",
    "itog_table_tele2_temp1"
   ]
  },
  {
   "cell_type": "code",
   "execution_count": null,
   "id": "c8fcd106",
   "metadata": {},
   "outputs": [],
   "source": [
    "itog_table_tele2_temp1.to_excel('objects_osm_merged_with_spb_osm.xlsx', index = False)"
   ]
  },
  {
   "cell_type": "code",
   "execution_count": null,
   "id": "74536f9d",
   "metadata": {},
   "outputs": [],
   "source": [
    "itog_table_tele2_test = gpd.sjoin(gdf_2_tele2, spb_hex_geo)\n",
    "itog_table_tele2_test"
   ]
  },
  {
   "cell_type": "code",
   "execution_count": null,
   "id": "3934157f",
   "metadata": {},
   "outputs": [],
   "source": [
    "itog_table_tele2_test.to_excel('hex_tele2_merged_with_spb_osm.xlsx', index = False)"
   ]
  },
  {
   "cell_type": "markdown",
   "id": "a4fb2a9a",
   "metadata": {},
   "source": [
    "### Merge two dataset in excel"
   ]
  },
  {
   "cell_type": "code",
   "execution_count": null,
   "id": "a63fa3b6",
   "metadata": {},
   "outputs": [],
   "source": [
    "spb_hex_with_objects = pd.read_excel('spb_hex_with_objects.xlsx', sheet_name='Sheet1', header=0, na_values=['NA'])\n",
    "spb_hex_with_objects"
   ]
  },
  {
   "cell_type": "code",
   "execution_count": null,
   "id": "0291a432",
   "metadata": {},
   "outputs": [],
   "source": [
    "spb_hex_with_objects['h3_9'] = spb_hex_with_objects.apply(lambda x:  h3.geo_to_h3(x.lat_spb_hex, x.lon_spb_hex, 9), axis=1)\n",
    "spb_hex_with_objects"
   ]
  },
  {
   "cell_type": "code",
   "execution_count": null,
   "id": "c847a941",
   "metadata": {},
   "outputs": [],
   "source": [
    "spb_hex_with_objects.to_excel('spb_hex_with_objects_final.xlsx', index = False)"
   ]
  }
 ],
 "metadata": {
  "kernelspec": {
   "display_name": "Python 3 (ipykernel)",
   "language": "python",
   "name": "python3"
  },
  "language_info": {
   "codemirror_mode": {
    "name": "ipython",
    "version": 3
   },
   "file_extension": ".py",
   "mimetype": "text/x-python",
   "name": "python",
   "nbconvert_exporter": "python",
   "pygments_lexer": "ipython3",
   "version": "3.10.9"
  },
  "varInspector": {
   "cols": {
    "lenName": 16,
    "lenType": 16,
    "lenVar": 40
   },
   "kernels_config": {
    "python": {
     "delete_cmd_postfix": "",
     "delete_cmd_prefix": "del ",
     "library": "var_list.py",
     "varRefreshCmd": "print(var_dic_list())"
    },
    "r": {
     "delete_cmd_postfix": ") ",
     "delete_cmd_prefix": "rm(",
     "library": "var_list.r",
     "varRefreshCmd": "cat(var_dic_list()) "
    }
   },
   "types_to_exclude": [
    "module",
    "function",
    "builtin_function_or_method",
    "instance",
    "_Feature"
   ],
   "window_display": false
  }
 },
 "nbformat": 4,
 "nbformat_minor": 5
}
